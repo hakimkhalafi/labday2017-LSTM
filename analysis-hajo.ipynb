{
 "cells": [
  {
   "cell_type": "code",
   "execution_count": 1,
   "metadata": {
    "collapsed": false
   },
   "outputs": [
    {
     "name": "stderr",
     "output_type": "stream",
     "text": [
      "Using TensorFlow backend.\n"
     ]
    }
   ],
   "source": [
    "# LSTM for international airline passengers problem with regression framing\n",
    "import numpy\n",
    "import matplotlib.pyplot as plt\n",
    "from pandas import read_csv\n",
    "import math\n",
    "from keras.models import Sequential\n",
    "from keras.layers import Dense\n",
    "from keras.layers import LSTM\n",
    "from sklearn.preprocessing import MinMaxScaler\n",
    "from sklearn.metrics import mean_squared_error"
   ]
  },
  {
   "cell_type": "code",
   "execution_count": 2,
   "metadata": {
    "collapsed": true
   },
   "outputs": [],
   "source": [
    "# fix random seed for reproducibility\n",
    "numpy.random.seed(7)\n",
    "\n",
    "# convert an array of values into a dataset matrix\n",
    "def create_dataset(dataset, look_back=1):\n",
    "    dataX, dataY = [], []\n",
    "    for i in range(len(dataset)-look_back-1):\n",
    "        a = dataset[i:(i+look_back), 0]\n",
    "        dataX.append(a)\n",
    "        dataY.append(dataset[i + look_back, 0])\n",
    "    return numpy.array(dataX), numpy.array(dataY)"
   ]
  },
  {
   "cell_type": "code",
   "execution_count": 10,
   "metadata": {
    "collapsed": true
   },
   "outputs": [],
   "source": [
    "# load the dataset\n",
    "dataframe = read_csv('international-airline-passengers.csv', usecols=[1], engine='python', skipfooter=3)\n",
    "dataset = dataframe.values\n",
    "dataset = dataset.astype('float32')"
   ]
  },
  {
   "cell_type": "code",
   "execution_count": 11,
   "metadata": {
    "collapsed": false
   },
   "outputs": [
    {
     "name": "stdout",
     "output_type": "stream",
     "text": [
      "[[ 112.]\n",
      " [ 118.]\n",
      " [ 132.]\n",
      " [ 129.]\n",
      " [ 121.]\n",
      " [ 135.]\n",
      " [ 148.]\n",
      " [ 148.]\n",
      " [ 136.]\n",
      " [ 119.]\n",
      " [ 104.]\n",
      " [ 118.]\n",
      " [ 115.]\n",
      " [ 126.]\n",
      " [ 141.]\n",
      " [ 135.]\n",
      " [ 125.]\n",
      " [ 149.]\n",
      " [ 170.]\n",
      " [ 170.]\n",
      " [ 158.]\n",
      " [ 133.]\n",
      " [ 114.]\n",
      " [ 140.]\n",
      " [ 145.]\n",
      " [ 150.]\n",
      " [ 178.]\n",
      " [ 163.]\n",
      " [ 172.]\n",
      " [ 178.]\n",
      " [ 199.]\n",
      " [ 199.]\n",
      " [ 184.]\n",
      " [ 162.]\n",
      " [ 146.]\n",
      " [ 166.]\n",
      " [ 171.]\n",
      " [ 180.]\n",
      " [ 193.]\n",
      " [ 181.]\n",
      " [ 183.]\n",
      " [ 218.]\n",
      " [ 230.]\n",
      " [ 242.]\n",
      " [ 209.]\n",
      " [ 191.]\n",
      " [ 172.]\n",
      " [ 194.]\n",
      " [ 196.]\n",
      " [ 196.]\n",
      " [ 236.]\n",
      " [ 235.]\n",
      " [ 229.]\n",
      " [ 243.]\n",
      " [ 264.]\n",
      " [ 272.]\n",
      " [ 237.]\n",
      " [ 211.]\n",
      " [ 180.]\n",
      " [ 201.]\n",
      " [ 204.]\n",
      " [ 188.]\n",
      " [ 235.]\n",
      " [ 227.]\n",
      " [ 234.]\n",
      " [ 264.]\n",
      " [ 302.]\n",
      " [ 293.]\n",
      " [ 259.]\n",
      " [ 229.]\n",
      " [ 203.]\n",
      " [ 229.]\n",
      " [ 242.]\n",
      " [ 233.]\n",
      " [ 267.]\n",
      " [ 269.]\n",
      " [ 270.]\n",
      " [ 315.]\n",
      " [ 364.]\n",
      " [ 347.]\n",
      " [ 312.]\n",
      " [ 274.]\n",
      " [ 237.]\n",
      " [ 278.]\n",
      " [ 284.]\n",
      " [ 277.]\n",
      " [ 317.]\n",
      " [ 313.]\n",
      " [ 318.]\n",
      " [ 374.]\n",
      " [ 413.]\n",
      " [ 405.]\n",
      " [ 355.]\n",
      " [ 306.]\n",
      " [ 271.]\n",
      " [ 306.]\n",
      " [ 315.]\n",
      " [ 301.]\n",
      " [ 356.]\n",
      " [ 348.]\n",
      " [ 355.]\n",
      " [ 422.]\n",
      " [ 465.]\n",
      " [ 467.]\n",
      " [ 404.]\n",
      " [ 347.]\n",
      " [ 305.]\n",
      " [ 336.]\n",
      " [ 340.]\n",
      " [ 318.]\n",
      " [ 362.]\n",
      " [ 348.]\n",
      " [ 363.]\n",
      " [ 435.]\n",
      " [ 491.]\n",
      " [ 505.]\n",
      " [ 404.]\n",
      " [ 359.]\n",
      " [ 310.]\n",
      " [ 337.]\n",
      " [ 360.]\n",
      " [ 342.]\n",
      " [ 406.]\n",
      " [ 396.]\n",
      " [ 420.]\n",
      " [ 472.]\n",
      " [ 548.]\n",
      " [ 559.]\n",
      " [ 463.]\n",
      " [ 407.]\n",
      " [ 362.]\n",
      " [ 405.]\n",
      " [ 417.]\n",
      " [ 391.]\n",
      " [ 419.]\n",
      " [ 461.]\n",
      " [ 472.]\n",
      " [ 535.]\n",
      " [ 622.]\n",
      " [ 606.]\n",
      " [ 508.]\n",
      " [ 461.]\n",
      " [ 390.]\n",
      " [ 432.]]\n"
     ]
    }
   ],
   "source": [
    "print(dataset)"
   ]
  },
  {
   "cell_type": "code",
   "execution_count": 12,
   "metadata": {
    "collapsed": false
   },
   "outputs": [
    {
     "data": {
      "image/png": "[encoded data removed]",
      "text/plain": [
       "<matplotlib.figure.Figure at 0x7f3cc64445f8>"
      ]
     },
     "metadata": {},
     "output_type": "display_data"
    }
   ],
   "source": [
    "plt.plot(dataset)\n",
    "plt.show()"
   ]
  },
  {
   "cell_type": "code",
   "execution_count": 14,
   "metadata": {
    "collapsed": true
   },
   "outputs": [],
   "source": [
    "# normalize the dataset\n",
    "scaler = MinMaxScaler(feature_range=(0, 1))\n",
    "dataset = scaler.fit_transform(dataset)"
   ]
  },
  {
   "cell_type": "code",
   "execution_count": 15,
   "metadata": {
    "collapsed": false
   },
   "outputs": [
    {
     "name": "stdout",
     "output_type": "stream",
     "text": [
      "96 48\n"
     ]
    }
   ],
   "source": [
    "# split into train and test sets\n",
    "train_size = int(len(dataset) * 0.67)\n",
    "test_size = len(dataset) - train_size\n",
    "train, test = dataset[0:train_size,:], dataset[train_size:len(dataset),:]\n",
    "print(len(train), len(test))\n",
    "# print(train)"
   ]
  },
  {
   "cell_type": "code",
   "execution_count": 26,
   "metadata": {
    "collapsed": true
   },
   "outputs": [],
   "source": [
    "# reshape into X=t and Y=t+1\n",
    "look_back = 1\n",
    "trainX, trainY = create_dataset(train, look_back)\n",
    "testX, testY = create_dataset(test, look_back)"
   ]
  },
  {
   "cell_type": "code",
   "execution_count": 27,
   "metadata": {
    "collapsed": true
   },
   "outputs": [],
   "source": [
    "# reshape input to be [samples, time steps, features]\n",
    "trainX = numpy.reshape(trainX, (trainX.shape[0], 1, trainX.shape[1]))\n",
    "testX = numpy.reshape(testX, (testX.shape[0], 1, testX.shape[1]))"
   ]
  },
  {
   "cell_type": "code",
   "execution_count": 28,
   "metadata": {
    "collapsed": false
   },
   "outputs": [
    {
     "name": "stdout",
     "output_type": "stream",
     "text": [
      "Epoch 1/100\n",
      "0s - loss: 0.0316 - acc: 0.0106\n",
      "Epoch 2/100\n",
      "0s - loss: 0.0142 - acc: 0.0106\n",
      "Epoch 3/100\n",
      "0s - loss: 0.0116 - acc: 0.0106\n",
      "Epoch 4/100\n",
      "0s - loss: 0.0107 - acc: 0.0106\n",
      "Epoch 5/100\n",
      "0s - loss: 0.0098 - acc: 0.0106\n",
      "Epoch 6/100\n",
      "0s - loss: 0.0088 - acc: 0.0106\n",
      "Epoch 7/100\n",
      "0s - loss: 0.0078 - acc: 0.0106\n",
      "Epoch 8/100\n",
      "0s - loss: 0.0069 - acc: 0.0106\n",
      "Epoch 9/100\n",
      "0s - loss: 0.0061 - acc: 0.0106\n",
      "Epoch 10/100\n",
      "0s - loss: 0.0053 - acc: 0.0106\n",
      "Epoch 11/100\n",
      "0s - loss: 0.0047 - acc: 0.0106\n",
      "Epoch 12/100\n",
      "0s - loss: 0.0041 - acc: 0.0106\n",
      "Epoch 13/100\n",
      "0s - loss: 0.0036 - acc: 0.0106\n",
      "Epoch 14/100\n",
      "0s - loss: 0.0032 - acc: 0.0106\n",
      "Epoch 15/100\n",
      "0s - loss: 0.0028 - acc: 0.0106\n",
      "Epoch 16/100\n",
      "0s - loss: 0.0026 - acc: 0.0106\n",
      "Epoch 17/100\n",
      "0s - loss: 0.0024 - acc: 0.0106\n",
      "Epoch 18/100\n",
      "0s - loss: 0.0023 - acc: 0.0106\n",
      "Epoch 19/100\n",
      "0s - loss: 0.0022 - acc: 0.0106\n",
      "Epoch 20/100\n",
      "0s - loss: 0.0021 - acc: 0.0106\n",
      "Epoch 21/100\n",
      "0s - loss: 0.0021 - acc: 0.0106\n",
      "Epoch 22/100\n",
      "0s - loss: 0.0020 - acc: 0.0106\n",
      "Epoch 23/100\n",
      "0s - loss: 0.0020 - acc: 0.0106\n",
      "Epoch 24/100\n",
      "0s - loss: 0.0021 - acc: 0.0106\n",
      "Epoch 25/100\n",
      "0s - loss: 0.0020 - acc: 0.0106\n",
      "Epoch 26/100\n",
      "0s - loss: 0.0020 - acc: 0.0106\n",
      "Epoch 27/100\n",
      "0s - loss: 0.0020 - acc: 0.0106\n",
      "Epoch 28/100\n",
      "0s - loss: 0.0020 - acc: 0.0106\n",
      "Epoch 29/100\n",
      "0s - loss: 0.0021 - acc: 0.0106\n",
      "Epoch 30/100\n",
      "0s - loss: 0.0021 - acc: 0.0106\n",
      "Epoch 31/100\n",
      "0s - loss: 0.0021 - acc: 0.0106\n",
      "Epoch 32/100\n",
      "0s - loss: 0.0020 - acc: 0.0106\n",
      "Epoch 33/100\n",
      "0s - loss: 0.0021 - acc: 0.0106\n",
      "Epoch 34/100\n",
      "0s - loss: 0.0021 - acc: 0.0106\n",
      "Epoch 35/100\n",
      "0s - loss: 0.0021 - acc: 0.0106\n",
      "Epoch 36/100\n",
      "0s - loss: 0.0020 - acc: 0.0106\n",
      "Epoch 37/100\n",
      "0s - loss: 0.0020 - acc: 0.0106\n",
      "Epoch 38/100\n",
      "0s - loss: 0.0021 - acc: 0.0106\n",
      "Epoch 39/100\n",
      "0s - loss: 0.0020 - acc: 0.0106\n",
      "Epoch 40/100\n",
      "0s - loss: 0.0020 - acc: 0.0106\n",
      "Epoch 41/100\n",
      "0s - loss: 0.0021 - acc: 0.0106\n",
      "Epoch 42/100\n",
      "0s - loss: 0.0021 - acc: 0.0106\n",
      "Epoch 43/100\n",
      "0s - loss: 0.0021 - acc: 0.0106\n",
      "Epoch 44/100\n",
      "0s - loss: 0.0020 - acc: 0.0106\n",
      "Epoch 45/100\n",
      "0s - loss: 0.0020 - acc: 0.0106\n",
      "Epoch 46/100\n",
      "0s - loss: 0.0020 - acc: 0.0106\n",
      "Epoch 47/100\n",
      "0s - loss: 0.0020 - acc: 0.0106\n",
      "Epoch 48/100\n",
      "0s - loss: 0.0020 - acc: 0.0106\n",
      "Epoch 49/100\n",
      "0s - loss: 0.0020 - acc: 0.0106\n",
      "Epoch 50/100\n",
      "0s - loss: 0.0020 - acc: 0.0106\n",
      "Epoch 51/100\n",
      "0s - loss: 0.0021 - acc: 0.0106\n",
      "Epoch 52/100\n",
      "0s - loss: 0.0021 - acc: 0.0106\n",
      "Epoch 53/100\n",
      "0s - loss: 0.0021 - acc: 0.0106\n",
      "Epoch 54/100\n",
      "0s - loss: 0.0020 - acc: 0.0106\n",
      "Epoch 55/100\n",
      "0s - loss: 0.0021 - acc: 0.0106\n",
      "Epoch 56/100\n",
      "0s - loss: 0.0020 - acc: 0.0106\n",
      "Epoch 57/100\n",
      "0s - loss: 0.0021 - acc: 0.0106\n",
      "Epoch 58/100\n",
      "0s - loss: 0.0020 - acc: 0.0106\n",
      "Epoch 59/100\n",
      "0s - loss: 0.0021 - acc: 0.0106\n",
      "Epoch 60/100\n",
      "0s - loss: 0.0020 - acc: 0.0106\n",
      "Epoch 61/100\n",
      "0s - loss: 0.0021 - acc: 0.0106\n",
      "Epoch 62/100\n",
      "0s - loss: 0.0020 - acc: 0.0106\n",
      "Epoch 63/100\n",
      "0s - loss: 0.0021 - acc: 0.0106\n",
      "Epoch 64/100\n",
      "0s - loss: 0.0020 - acc: 0.0106\n",
      "Epoch 65/100\n",
      "0s - loss: 0.0020 - acc: 0.0106\n",
      "Epoch 66/100\n",
      "0s - loss: 0.0021 - acc: 0.0106\n",
      "Epoch 67/100\n",
      "0s - loss: 0.0020 - acc: 0.0106\n",
      "Epoch 68/100\n",
      "0s - loss: 0.0021 - acc: 0.0106\n",
      "Epoch 69/100\n",
      "0s - loss: 0.0020 - acc: 0.0106\n",
      "Epoch 70/100\n",
      "0s - loss: 0.0020 - acc: 0.0106\n",
      "Epoch 71/100\n",
      "0s - loss: 0.0020 - acc: 0.0106\n",
      "Epoch 72/100\n",
      "0s - loss: 0.0020 - acc: 0.0106\n",
      "Epoch 73/100\n",
      "0s - loss: 0.0021 - acc: 0.0106\n",
      "Epoch 74/100\n",
      "0s - loss: 0.0020 - acc: 0.0106\n",
      "Epoch 75/100\n",
      "0s - loss: 0.0020 - acc: 0.0106\n",
      "Epoch 76/100\n",
      "0s - loss: 0.0021 - acc: 0.0106\n",
      "Epoch 77/100\n",
      "0s - loss: 0.0021 - acc: 0.0106\n",
      "Epoch 78/100\n",
      "0s - loss: 0.0020 - acc: 0.0106\n",
      "Epoch 79/100\n",
      "0s - loss: 0.0021 - acc: 0.0106\n",
      "Epoch 80/100\n",
      "0s - loss: 0.0021 - acc: 0.0106\n",
      "Epoch 81/100\n",
      "0s - loss: 0.0020 - acc: 0.0106\n",
      "Epoch 82/100\n",
      "0s - loss: 0.0021 - acc: 0.0106\n",
      "Epoch 83/100\n",
      "0s - loss: 0.0020 - acc: 0.0106\n",
      "Epoch 84/100\n",
      "0s - loss: 0.0020 - acc: 0.0106\n",
      "Epoch 85/100\n",
      "0s - loss: 0.0020 - acc: 0.0106\n",
      "Epoch 86/100\n",
      "0s - loss: 0.0020 - acc: 0.0106\n",
      "Epoch 87/100\n",
      "0s - loss: 0.0020 - acc: 0.0106\n",
      "Epoch 88/100\n",
      "0s - loss: 0.0020 - acc: 0.0106\n",
      "Epoch 89/100\n",
      "0s - loss: 0.0020 - acc: 0.0106\n",
      "Epoch 90/100\n",
      "0s - loss: 0.0020 - acc: 0.0106\n",
      "Epoch 91/100\n",
      "0s - loss: 0.0022 - acc: 0.0106\n",
      "Epoch 92/100\n",
      "0s - loss: 0.0021 - acc: 0.0106\n",
      "Epoch 93/100\n",
      "0s - loss: 0.0020 - acc: 0.0106\n",
      "Epoch 94/100\n",
      "0s - loss: 0.0020 - acc: 0.0106\n",
      "Epoch 95/100\n",
      "0s - loss: 0.0021 - acc: 0.0106\n",
      "Epoch 96/100\n",
      "0s - loss: 0.0020 - acc: 0.0106\n",
      "Epoch 97/100\n",
      "0s - loss: 0.0020 - acc: 0.0106\n",
      "Epoch 98/100\n",
      "0s - loss: 0.0020 - acc: 0.0106\n",
      "Epoch 99/100\n",
      "0s - loss: 0.0020 - acc: 0.0106\n",
      "Epoch 100/100\n",
      "0s - loss: 0.0019 - acc: 0.0106\n"
     ]
    },
    {
     "data": {
      "text/plain": [
       "<keras.callbacks.History at 0x7f3cb41e5a20>"
      ]
     },
     "execution_count": 28,
     "metadata": {},
     "output_type": "execute_result"
    }
   ],
   "source": [
    "# create and fit the LSTM network\n",
    "\n",
    "model = Sequential()\n",
    "model.add(LSTM(4, input_shape=(1, look_back)))\n",
    "model.add(Dense(1))\n",
    "model.compile(loss='mean_squared_error', optimizer='adam', metrics=['accuracy'])\n",
    "model.fit(trainX, trainY, epochs=100, batch_size=1, verbose=2)"
   ]
  },
  {
   "cell_type": "code",
   "execution_count": 19,
   "metadata": {
    "collapsed": true
   },
   "outputs": [],
   "source": [
    "# make predictions\n",
    "trainPredict = model.predict(trainX)\n",
    "testPredict = model.predict(testX)"
   ]
  },
  {
   "cell_type": "code",
   "execution_count": 20,
   "metadata": {
    "collapsed": true
   },
   "outputs": [],
   "source": [
    "# invert predictions\n",
    "trainPredict = scaler.inverse_transform(trainPredict)\n",
    "trainY = scaler.inverse_transform([trainY])\n",
    "testPredict = scaler.inverse_transform(testPredict)\n",
    "testY = scaler.inverse_transform([testY])"
   ]
  },
  {
   "cell_type": "code",
   "execution_count": 21,
   "metadata": {
    "collapsed": false
   },
   "outputs": [
    {
     "name": "stdout",
     "output_type": "stream",
     "text": [
      "Train Score: 22.93 RMSE\n",
      "Test Score: 47.53 RMSE\n"
     ]
    }
   ],
   "source": [
    "# calculate root mean squared error\n",
    "trainScore = math.sqrt(mean_squared_error(trainY[0], trainPredict[:,0]))\n",
    "print('Train Score: %.2f RMSE' % (trainScore))\n",
    "testScore = math.sqrt(mean_squared_error(testY[0], testPredict[:,0]))\n",
    "print('Test Score: %.2f RMSE' % (testScore))"
   ]
  },
  {
   "cell_type": "code",
   "execution_count": 22,
   "metadata": {
    "collapsed": true
   },
   "outputs": [],
   "source": [
    "# shift train predictions for plotting\n",
    "trainPredictPlot = numpy.empty_like(dataset)\n",
    "trainPredictPlot[:, :] = numpy.nan\n",
    "trainPredictPlot[look_back:len(trainPredict)+look_back, :] = trainPredict"
   ]
  },
  {
   "cell_type": "code",
   "execution_count": 23,
   "metadata": {
    "collapsed": true
   },
   "outputs": [],
   "source": [
    "# shift test predictions for plotting\n",
    "testPredictPlot = numpy.empty_like(dataset)\n",
    "testPredictPlot[:, :] = numpy.nan\n",
    "testPredictPlot[len(trainPredict)+(look_back*2)+1:len(dataset)-1, :] = testPredict"
   ]
  },
  {
   "cell_type": "code",
   "execution_count": 24,
   "metadata": {
    "collapsed": false
   },
   "outputs": [
    {
     "data": {
      "image/png": "[encoded data removed]",
      "text/plain": [
       "<matplotlib.figure.Figure at 0x7f3cbed57198>"
      ]
     },
     "metadata": {},
     "output_type": "display_data"
    }
   ],
   "source": [
    "# plot baseline and predictions\n",
    "plt.plot(scaler.inverse_transform(dataset))\n",
    "plt.plot(trainPredictPlot)\n",
    "plt.plot(testPredictPlot)\n",
    "plt.show()"
   ]
  }
 ],
 "metadata": {
  "kernelspec": {
   "display_name": "py36",
   "language": "python",
   "name": "py36"
  },
  "language_info": {
   "codemirror_mode": {
    "name": "ipython",
    "version": 3
   },
   "file_extension": ".py",
   "mimetype": "text/x-python",
   "name": "python",
   "nbconvert_exporter": "python",
   "pygments_lexer": "ipython3",
   "version": "3.6.1"
  },
  "nbTranslate": {
   "displayLangs": [
    "en",
    "nl"
   ],
   "hotkey": "alt-t",
   "langInMainMenu": true,
   "sourceLang": "nl",
   "targetLang": "en",
   "useGoogleTranslate": true
  },
  "varInspector": {
   "cols": {
    "lenName": 16,
    "lenType": 16,
    "lenVar": 40
   },
   "kernels_config": {
    "python": {
     "delete_cmd_postfix": "",
     "delete_cmd_prefix": "del ",
     "library": "var_list.py",
     "varRefreshCmd": "print(var_dic_list())"
    },
    "r": {
     "delete_cmd_postfix": ") ",
     "delete_cmd_prefix": "rm(",
     "library": "var_list.r",
     "varRefreshCmd": "cat(var_dic_list()) "
    }
   },
   "types_to_exclude": [
    "module",
    "function",
    "builtin_function_or_method",
    "instance",
    "_Feature"
   ],
   "window_display": false
  }
 },
 "nbformat": 4,
 "nbformat_minor": 2
}
